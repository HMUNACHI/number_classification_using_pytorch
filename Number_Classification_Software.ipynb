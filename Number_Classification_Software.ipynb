{
  "nbformat": 4,
  "nbformat_minor": 0,
  "metadata": {
    "colab": {
      "name": "Number Classification Software",
      "provenance": [],
      "collapsed_sections": [],
      "include_colab_link": true
    },
    "kernelspec": {
      "name": "python3",
      "display_name": "Python 3"
    },
    "accelerator": "GPU"
  },
  "cells": [
    {
      "cell_type": "markdown",
      "metadata": {
        "id": "view-in-github",
        "colab_type": "text"
      },
      "source": [
        "<a href=\"https://colab.research.google.com/github/HMUNACHI/number_classification_using_pytorch/blob/master/Number_Classification_Software.ipynb\" target=\"_parent\"><img src=\"https://colab.research.google.com/assets/colab-badge.svg\" alt=\"Open In Colab\"/></a>"
      ]
    },
    {
      "cell_type": "code",
      "metadata": {
        "id": "NZZdtRNBtapA",
        "colab_type": "code",
        "outputId": "6dee4861-9b32-4e81-ffeb-e0f65c83e2b3",
        "colab": {
          "base_uri": "https://localhost:8080/",
          "height": 593
        }
      },
      "source": [
        "# imports the dependencies\n",
        "%matplotlib inline\n",
        "import helper\n",
        "from __future__ import print_function\n",
        "import torch\n",
        "from torch import nn\n",
        "import torch.nn.functional as F\n",
        "from torchvision import datasets, transforms\n",
        "from torch import optim\n",
        "\n",
        "# this would transform the data to tensors and normalise the data\n",
        "transform = transforms.Compose([transforms.ToTensor(), \n",
        "                                transforms.Normalize((0.5,),(0.5,))\n",
        "                                ])\n",
        "\n",
        "# loading the dataset from MNIST\n",
        "trainset = datasets.MNIST('-/.pytorch/MNIST_data/', \n",
        "                          download = True, \n",
        "                          train = True, \n",
        "                          transform = transform)\n",
        "\n",
        "# shuffles and loads the data in batches of 64\n",
        "trainloader = torch.utils.data.DataLoader(trainset, \n",
        "                                          batch_size = 64, \n",
        "                                          shuffle = True)\n",
        "# defines the model\n",
        "model = nn.Sequential(nn.Linear(784, 128),\n",
        "                     nn.ReLU(),\n",
        "                     nn.Linear(128, 64),\n",
        "                     nn.ReLU(),\n",
        "                     nn.Linear(64, 10),\n",
        "                     nn.LogSoftmax(dim=1))\n",
        "\n",
        "# sets the criterion, optimiser and epochs\n",
        "criterion = nn.NLLLoss()\n",
        "optimizer = optim.SGD(model.parameters(), lr = 0.003)\n",
        "epochs = 20\n",
        "\n",
        "\n",
        "# training begins\n",
        "for e in range(epochs):\n",
        "    running_loss = 0\n",
        "\n",
        "    for images, labels in trainloader: \n",
        "\n",
        "        # flattens the images to a one dimensional array\n",
        "        images = images.view(images.shape[0], -1)\n",
        "\n",
        "        # clears the gradients\n",
        "        optimizer.zero_grad()\n",
        "\n",
        "        # forward pass\n",
        "        output = model.forward(images)\n",
        "        \n",
        "        # calculate the loss\n",
        "        loss = criterion(output, labels)\n",
        "        \n",
        "        # back propagation\n",
        "        loss.backward()\n",
        "        \n",
        "        #adjust weights\n",
        "        optimizer.step()\n",
        "        \n",
        "        # updates the running loss\n",
        "        running_loss += loss.item()\n",
        "    \n",
        "    # prints the running loss as the model is trained\n",
        "    else: print(f\"Training Loss: \", {running_loss/len(trainloader)})\n",
        "\n",
        "# testing how well the model predicts mumbers\n",
        "images, labels = next(iter(trainloader))\n",
        "img = images[0].view(1,784)\n",
        "\n",
        "with torch.no_grad():\n",
        "    logits = model.forward(img)\n",
        "\n",
        "ps = F.softmax(logits,dim=1)\n",
        "helper.view_classify(img.view(1,28,28), ps)"
      ],
      "execution_count": 4,
      "outputs": [
        {
          "output_type": "stream",
          "text": [
            "Training Loss:  {1.8955140176104075}\n",
            "Training Loss:  {0.836020093387378}\n",
            "Training Loss:  {0.5107707623829211}\n",
            "Training Loss:  {0.41907698848544916}\n",
            "Training Loss:  {0.3776674202637378}\n",
            "Training Loss:  {0.35253586401658527}\n",
            "Training Loss:  {0.334266469406802}\n",
            "Training Loss:  {0.32008615592871903}\n",
            "Training Loss:  {0.3076279849401796}\n",
            "Training Loss:  {0.2974718222057006}\n",
            "Training Loss:  {0.2881768474271938}\n",
            "Training Loss:  {0.27942090679301634}\n",
            "Training Loss:  {0.27154544674590836}\n",
            "Training Loss:  {0.2638492909972983}\n",
            "Training Loss:  {0.25668007036103113}\n",
            "Training Loss:  {0.2502626021946671}\n",
            "Training Loss:  {0.2437515194251784}\n",
            "Training Loss:  {0.2374628885452554}\n",
            "Training Loss:  {0.2319050473468835}\n",
            "Training Loss:  {0.22620301617424626}\n"
          ],
          "name": "stdout"
        },
        {
          "output_type": "display_data",
          "data": {
            "image/png": "[encoded data removed]",
            "text/plain": [
              "<Figure size 432x648 with 2 Axes>"
            ]
          },
          "metadata": {
            "tags": []
          }
        }
      ]
    }
  ]
}